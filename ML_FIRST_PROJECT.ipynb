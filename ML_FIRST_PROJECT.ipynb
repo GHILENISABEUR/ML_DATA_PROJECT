{
  "nbformat": 4,
  "nbformat_minor": 0,
  "metadata": {
    "colab": {
      "provenance": [],
      "authorship_tag": "ABX9TyNrFoBv3XtEyUJSQ1LkP719",
      "include_colab_link": true
    },
    "kernelspec": {
      "name": "python3",
      "display_name": "Python 3"
    },
    "language_info": {
      "name": "python"
    }
  },
  "cells": [
    {
      "cell_type": "markdown",
      "metadata": {
        "id": "view-in-github",
        "colab_type": "text"
      },
      "source": [
        "<a href=\"https://colab.research.google.com/github/GHILENISABEUR/ML_DATA_PROJECT/blob/main/ML_FIRST_PROJECT.ipynb\" target=\"_parent\"><img src=\"https://colab.research.google.com/assets/colab-badge.svg\" alt=\"Open In Colab\"/></a>"
      ]
    },
    {
      "cell_type": "code",
      "execution_count": null,
      "metadata": {
        "id": "p59M_NvFcX9q"
      },
      "outputs": [],
      "source": []
    },
    {
      "cell_type": "markdown",
      "source": [
        "# load data"
      ],
      "metadata": {
        "id": "5f-9Yyav6gXv"
      }
    },
    {
      "cell_type": "markdown",
      "source": [],
      "metadata": {
        "id": "ivps_PTZ6iWN"
      }
    },
    {
      "cell_type": "code",
      "source": [
        "import pandas as pd\n",
        "df = pd.read_csv('https://raw.githubusercontent.com/dataprofessor/data/master/delaney_solubility_with_descriptors.csv')\n"
      ],
      "metadata": {
        "id": "KI8dGXs16sPi",
        "collapsed": true
      },
      "execution_count": null,
      "outputs": []
    },
    {
      "cell_type": "markdown",
      "source": [
        "data separation y and x\n"
      ],
      "metadata": {
        "id": "rBe8hN-V83Rw"
      }
    },
    {
      "cell_type": "code",
      "source": [
        "y = df['logS']\n",
        "x=df.drop('logS',axis=1)\n",
        "x"
      ],
      "metadata": {
        "id": "efOmOlQr884W"
      },
      "execution_count": null,
      "outputs": []
    },
    {
      "cell_type": "markdown",
      "source": [
        "data split\n"
      ],
      "metadata": {
        "id": "__vASHXu9wy1"
      }
    },
    {
      "cell_type": "code",
      "source": [
        "from sklearn.model_selection import train_test_split\n",
        "x_train , x_test,y_train,y_test =train_test_split(x,y,test_size=0.2,random_state=100)\n"
      ],
      "metadata": {
        "id": "-MpK9v1X9yMb",
        "collapsed": true
      },
      "execution_count": null,
      "outputs": []
    },
    {
      "cell_type": "markdown",
      "source": [
        "###model building\n"
      ],
      "metadata": {
        "id": "w6PHLiJlA5IT"
      }
    },
    {
      "cell_type": "markdown",
      "source": [
        "##linear regression\n"
      ],
      "metadata": {
        "id": "QKySPdXDBBRt"
      }
    },
    {
      "cell_type": "code",
      "source": [
        "from sklearn.linear_model import LinearRegression\n",
        "lr =LinearRegression()\n",
        "lr.fit(x_train,y_train)\n",
        "LinearRegression()\n",
        "y_lr_train_pred = lr.predict(x_train)\n",
        "y_lr_test_pred = lr.predict(x_test)\n",
        "print(y_lr_train_pred,y_lr_test_pred)\n"
      ],
      "metadata": {
        "id": "MtSh3uTVBEC-"
      },
      "execution_count": null,
      "outputs": []
    },
    {
      "cell_type": "markdown",
      "source": [],
      "metadata": {
        "id": "OE9_VcwvFYRp"
      }
    },
    {
      "cell_type": "markdown",
      "source": [],
      "metadata": {
        "id": "nLPktEAaFZqt"
      }
    },
    {
      "cell_type": "markdown",
      "source": [
        "**evaluate model performance **"
      ],
      "metadata": {
        "id": "mZFn3YAWCTty"
      }
    },
    {
      "cell_type": "code",
      "source": [
        "from sklearn.metrics import mean_squared_error ,r2_score\n",
        "lr_train_m =mean_squared_error(y_train,y_lr_train_pred)\n",
        "lr_train_r2 = r2_score(y_train,y_lr_train_pred)\n",
        "lr_test_m =mean_squared_error(y_test,y_lr_test_pred)\n",
        "lr_test_r1 =r2_score(y_test,y_lr_test_pred)\n",
        "\n"
      ],
      "metadata": {
        "id": "0LI3H8MuA8J5"
      },
      "execution_count": null,
      "outputs": []
    },
    {
      "cell_type": "code",
      "source": [
        "lr_result = pd.DataFrame(['linear regression  ',lr_test_r1,lr_train_r2,lr_test_m,lr_test_r1]).transpose()\n",
        "lr_result.columns =['method','training','training r2','mse','test']"
      ],
      "metadata": {
        "colab": {
          "base_uri": "https://localhost:8080/",
          "height": 89
        },
        "collapsed": true,
        "id": "FHbBzEcRD_Bo",
        "outputId": "92474432-3f52-4dd0-9174-cda2c354d33f"
      },
      "execution_count": null,
      "outputs": [
        {
          "output_type": "execute_result",
          "data": {
            "text/plain": [
              "                method  training training r2       mse      test\n",
              "0  linear regression    0.789162    0.764505  1.020695  0.789162"
            ],
            "text/html": [
              "\n",
              "  <div id=\"df-24296e84-36bb-4ff9-b5be-64785ca027b0\" class=\"colab-df-container\">\n",
              "    <div>\n",
              "<style scoped>\n",
              "    .dataframe tbody tr th:only-of-type {\n",
              "        vertical-align: middle;\n",
              "    }\n",
              "\n",
              "    .dataframe tbody tr th {\n",
              "        vertical-align: top;\n",
              "    }\n",
              "\n",
              "    .dataframe thead th {\n",
              "        text-align: right;\n",
              "    }\n",
              "</style>\n",
              "<table border=\"1\" class=\"dataframe\">\n",
              "  <thead>\n",
              "    <tr style=\"text-align: right;\">\n",
              "      <th></th>\n",
              "      <th>method</th>\n",
              "      <th>training</th>\n",
              "      <th>training r2</th>\n",
              "      <th>mse</th>\n",
              "      <th>test</th>\n",
              "    </tr>\n",
              "  </thead>\n",
              "  <tbody>\n",
              "    <tr>\n",
              "      <th>0</th>\n",
              "      <td>linear regression</td>\n",
              "      <td>0.789162</td>\n",
              "      <td>0.764505</td>\n",
              "      <td>1.020695</td>\n",
              "      <td>0.789162</td>\n",
              "    </tr>\n",
              "  </tbody>\n",
              "</table>\n",
              "</div>\n",
              "    <div class=\"colab-df-buttons\">\n",
              "\n",
              "  <div class=\"colab-df-container\">\n",
              "    <button class=\"colab-df-convert\" onclick=\"convertToInteractive('df-24296e84-36bb-4ff9-b5be-64785ca027b0')\"\n",
              "            title=\"Convert this dataframe to an interactive table.\"\n",
              "            style=\"display:none;\">\n",
              "\n",
              "  <svg xmlns=\"http://www.w3.org/2000/svg\" height=\"24px\" viewBox=\"0 -960 960 960\">\n",
              "    <path d=\"M120-120v-720h720v720H120Zm60-500h600v-160H180v160Zm220 220h160v-160H400v160Zm0 220h160v-160H400v160ZM180-400h160v-160H180v160Zm440 0h160v-160H620v160ZM180-180h160v-160H180v160Zm440 0h160v-160H620v160Z\"/>\n",
              "  </svg>\n",
              "    </button>\n",
              "\n",
              "  <style>\n",
              "    .colab-df-container {\n",
              "      display:flex;\n",
              "      gap: 12px;\n",
              "    }\n",
              "\n",
              "    .colab-df-convert {\n",
              "      background-color: #E8F0FE;\n",
              "      border: none;\n",
              "      border-radius: 50%;\n",
              "      cursor: pointer;\n",
              "      display: none;\n",
              "      fill: #1967D2;\n",
              "      height: 32px;\n",
              "      padding: 0 0 0 0;\n",
              "      width: 32px;\n",
              "    }\n",
              "\n",
              "    .colab-df-convert:hover {\n",
              "      background-color: #E2EBFA;\n",
              "      box-shadow: 0px 1px 2px rgba(60, 64, 67, 0.3), 0px 1px 3px 1px rgba(60, 64, 67, 0.15);\n",
              "      fill: #174EA6;\n",
              "    }\n",
              "\n",
              "    .colab-df-buttons div {\n",
              "      margin-bottom: 4px;\n",
              "    }\n",
              "\n",
              "    [theme=dark] .colab-df-convert {\n",
              "      background-color: #3B4455;\n",
              "      fill: #D2E3FC;\n",
              "    }\n",
              "\n",
              "    [theme=dark] .colab-df-convert:hover {\n",
              "      background-color: #434B5C;\n",
              "      box-shadow: 0px 1px 3px 1px rgba(0, 0, 0, 0.15);\n",
              "      filter: drop-shadow(0px 1px 2px rgba(0, 0, 0, 0.3));\n",
              "      fill: #FFFFFF;\n",
              "    }\n",
              "  </style>\n",
              "\n",
              "    <script>\n",
              "      const buttonEl =\n",
              "        document.querySelector('#df-24296e84-36bb-4ff9-b5be-64785ca027b0 button.colab-df-convert');\n",
              "      buttonEl.style.display =\n",
              "        google.colab.kernel.accessAllowed ? 'block' : 'none';\n",
              "\n",
              "      async function convertToInteractive(key) {\n",
              "        const element = document.querySelector('#df-24296e84-36bb-4ff9-b5be-64785ca027b0');\n",
              "        const dataTable =\n",
              "          await google.colab.kernel.invokeFunction('convertToInteractive',\n",
              "                                                    [key], {});\n",
              "        if (!dataTable) return;\n",
              "\n",
              "        const docLinkHtml = 'Like what you see? Visit the ' +\n",
              "          '<a target=\"_blank\" href=https://colab.research.google.com/notebooks/data_table.ipynb>data table notebook</a>'\n",
              "          + ' to learn more about interactive tables.';\n",
              "        element.innerHTML = '';\n",
              "        dataTable['output_type'] = 'display_data';\n",
              "        await google.colab.output.renderOutput(dataTable, element);\n",
              "        const docLink = document.createElement('div');\n",
              "        docLink.innerHTML = docLinkHtml;\n",
              "        element.appendChild(docLink);\n",
              "      }\n",
              "    </script>\n",
              "  </div>\n",
              "\n",
              "\n",
              "  <div id=\"id_a2a2b78e-0212-4b6d-a8f0-a1eae04955d1\">\n",
              "    <style>\n",
              "      .colab-df-generate {\n",
              "        background-color: #E8F0FE;\n",
              "        border: none;\n",
              "        border-radius: 50%;\n",
              "        cursor: pointer;\n",
              "        display: none;\n",
              "        fill: #1967D2;\n",
              "        height: 32px;\n",
              "        padding: 0 0 0 0;\n",
              "        width: 32px;\n",
              "      }\n",
              "\n",
              "      .colab-df-generate:hover {\n",
              "        background-color: #E2EBFA;\n",
              "        box-shadow: 0px 1px 2px rgba(60, 64, 67, 0.3), 0px 1px 3px 1px rgba(60, 64, 67, 0.15);\n",
              "        fill: #174EA6;\n",
              "      }\n",
              "\n",
              "      [theme=dark] .colab-df-generate {\n",
              "        background-color: #3B4455;\n",
              "        fill: #D2E3FC;\n",
              "      }\n",
              "\n",
              "      [theme=dark] .colab-df-generate:hover {\n",
              "        background-color: #434B5C;\n",
              "        box-shadow: 0px 1px 3px 1px rgba(0, 0, 0, 0.15);\n",
              "        filter: drop-shadow(0px 1px 2px rgba(0, 0, 0, 0.3));\n",
              "        fill: #FFFFFF;\n",
              "      }\n",
              "    </style>\n",
              "    <button class=\"colab-df-generate\" onclick=\"generateWithVariable('lr_result')\"\n",
              "            title=\"Generate code using this dataframe.\"\n",
              "            style=\"display:none;\">\n",
              "\n",
              "  <svg xmlns=\"http://www.w3.org/2000/svg\" height=\"24px\"viewBox=\"0 0 24 24\"\n",
              "       width=\"24px\">\n",
              "    <path d=\"M7,19H8.4L18.45,9,17,7.55,7,17.6ZM5,21V16.75L18.45,3.32a2,2,0,0,1,2.83,0l1.4,1.43a1.91,1.91,0,0,1,.58,1.4,1.91,1.91,0,0,1-.58,1.4L9.25,21ZM18.45,9,17,7.55Zm-12,3A5.31,5.31,0,0,0,4.9,8.1,5.31,5.31,0,0,0,1,6.5,5.31,5.31,0,0,0,4.9,4.9,5.31,5.31,0,0,0,6.5,1,5.31,5.31,0,0,0,8.1,4.9,5.31,5.31,0,0,0,12,6.5,5.46,5.46,0,0,0,6.5,12Z\"/>\n",
              "  </svg>\n",
              "    </button>\n",
              "    <script>\n",
              "      (() => {\n",
              "      const buttonEl =\n",
              "        document.querySelector('#id_a2a2b78e-0212-4b6d-a8f0-a1eae04955d1 button.colab-df-generate');\n",
              "      buttonEl.style.display =\n",
              "        google.colab.kernel.accessAllowed ? 'block' : 'none';\n",
              "\n",
              "      buttonEl.onclick = () => {\n",
              "        google.colab.notebook.generateWithVariable('lr_result');\n",
              "      }\n",
              "      })();\n",
              "    </script>\n",
              "  </div>\n",
              "\n",
              "    </div>\n",
              "  </div>\n"
            ],
            "application/vnd.google.colaboratory.intrinsic+json": {
              "type": "dataframe",
              "variable_name": "lr_result",
              "summary": "{\n  \"name\": \"lr_result\",\n  \"rows\": 1,\n  \"fields\": [\n    {\n      \"column\": \"method\",\n      \"properties\": {\n        \"dtype\": \"string\",\n        \"num_unique_values\": 1,\n        \"samples\": [\n          \"linear regression  \"\n        ],\n        \"semantic_type\": \"\",\n        \"description\": \"\"\n      }\n    },\n    {\n      \"column\": \"training\",\n      \"properties\": {\n        \"dtype\": \"date\",\n        \"min\": 0.7891616188563282,\n        \"max\": 0.7891616188563282,\n        \"num_unique_values\": 1,\n        \"samples\": [\n          0.7891616188563282\n        ],\n        \"semantic_type\": \"\",\n        \"description\": \"\"\n      }\n    },\n    {\n      \"column\": \"training r2\",\n      \"properties\": {\n        \"dtype\": \"date\",\n        \"min\": 0.7645051774663391,\n        \"max\": 0.7645051774663391,\n        \"num_unique_values\": 1,\n        \"samples\": [\n          0.7645051774663391\n        ],\n        \"semantic_type\": \"\",\n        \"description\": \"\"\n      }\n    },\n    {\n      \"column\": \"mse\",\n      \"properties\": {\n        \"dtype\": \"date\",\n        \"min\": 1.0206953660861033,\n        \"max\": 1.0206953660861033,\n        \"num_unique_values\": 1,\n        \"samples\": [\n          1.0206953660861033\n        ],\n        \"semantic_type\": \"\",\n        \"description\": \"\"\n      }\n    },\n    {\n      \"column\": \"test\",\n      \"properties\": {\n        \"dtype\": \"date\",\n        \"min\": 0.7891616188563282,\n        \"max\": 0.7891616188563282,\n        \"num_unique_values\": 1,\n        \"samples\": [\n          0.7891616188563282\n        ],\n        \"semantic_type\": \"\",\n        \"description\": \"\"\n      }\n    }\n  ]\n}"
            }
          },
          "metadata": {},
          "execution_count": 23
        }
      ]
    },
    {
      "cell_type": "markdown",
      "source": [],
      "metadata": {
        "id": "8LFgUaZRFbGN"
      }
    },
    {
      "cell_type": "markdown",
      "source": [
        "random forest\n"
      ],
      "metadata": {
        "id": "Be1JSGrbJDRQ"
      }
    },
    {
      "cell_type": "code",
      "source": [
        "from sklearn.ensemble import RandomForestRegressor\n",
        "rf = RandomForestRegressor(max_depth=2,random_state=100)\n",
        "rf.fit(x_train,y_train)\n",
        "y_rf_train_pred = rf.predict(x_train)\n",
        "y_rf_test_pred = rf.predict(x_test)\n"
      ],
      "metadata": {
        "id": "JfZJM7ZzJGIu"
      },
      "execution_count": null,
      "outputs": []
    },
    {
      "cell_type": "code",
      "source": [
        "from sklearn.metrics import mean_squared_error ,r2_score\n",
        "rf_train_m =mean_squared_error(y_train,y_rf_train_pred)\n",
        "rf_train_r2 = r2_score(y_train,y_rf_train_pred)\n",
        "rf_test_m =mean_squared_error(y_test,y_rf_test_pred)\n",
        "rf_test_r1 =r2_score(y_test,y_rf_test_pred)\n"
      ],
      "metadata": {
        "id": "e1d6uTEDJ_LD"
      },
      "execution_count": null,
      "outputs": []
    },
    {
      "cell_type": "code",
      "source": [
        "rf_result = pd.DataFrame(['random forest  ',rf_test_r1,rf_train_r2,rf_test_m,rf_test_r1]).transpose()\n",
        "rf_result.columns =['method','training','training r2','mse','test']\n",
        "rf_result"
      ],
      "metadata": {
        "id": "CVUSHGEZKOsj"
      },
      "execution_count": null,
      "outputs": []
    },
    {
      "cell_type": "markdown",
      "source": [],
      "metadata": {
        "id": "Kbs57WSRK6UA"
      }
    },
    {
      "cell_type": "code",
      "source": [
        "df_models=pd.concat([lr_result,rf_result ])\n",
        "df_models"
      ],
      "metadata": {
        "id": "rByH-kq7KtM0"
      },
      "execution_count": null,
      "outputs": []
    },
    {
      "cell_type": "markdown",
      "source": [
        "data visualzation\n"
      ],
      "metadata": {
        "id": "CcOyY1trLUZb"
      }
    },
    {
      "cell_type": "code",
      "source": [
        "import matplotlib.pyplot as pit\n",
        "import numpy as np\n",
        "pit.figure(figsize=(5,5))\n",
        "\n",
        "pit.scatter(x=y_train,y=y_lr_train_pred,alpha=0.2)\n",
        "z=np.polyfit(y_train,y_lr_train_pred,1)\n",
        "p=np.poly1d(z)\n",
        "pit.plot(y_train,p(y_train),'#F8766D')\n",
        "\n",
        "\n",
        "pit.plot()\n",
        "pit.ylabel('predict logS ')\n",
        "pit.xlabel('exprimental logS ')\n",
        "\n",
        "\n",
        "\n"
      ],
      "metadata": {
        "colab": {
          "base_uri": "https://localhost:8080/",
          "height": 482
        },
        "id": "5SpzpgSLLW9z",
        "outputId": "74640a26-76c4-4af0-8999-215138b2d6d0"
      },
      "execution_count": null,
      "outputs": [
        {
          "output_type": "execute_result",
          "data": {
            "text/plain": [
              "Text(0.5, 0, 'exprimental logS ')"
            ]
          },
          "metadata": {},
          "execution_count": 36
        },
        {
          "output_type": "display_data",
          "data": {
            "text/plain": [
              "<Figure size 500x500 with 1 Axes>"
            ],
            "image/png": "[encoded data removed]"
          },
          "metadata": {}
        }
      ]
    }
  ]
}